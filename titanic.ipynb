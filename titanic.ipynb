{
 "cells": [
  {
   "cell_type": "markdown",
   "id": "658ca385",
   "metadata": {},
   "source": [
    "# My predictions for the Titanic Dataset"
   ]
  },
  {
   "cell_type": "code",
   "execution_count": 14,
   "id": "55736dd5",
   "metadata": {},
   "outputs": [],
   "source": [
    "import numpy as np\n",
    "import pandas as pd\n",
    "from sklearn.linear_model import LogisticRegression"
   ]
  },
  {
   "cell_type": "markdown",
   "id": "871cbea3",
   "metadata": {},
   "source": [
    "Let's load the data."
   ]
  },
  {
   "cell_type": "code",
   "execution_count": 15,
   "id": "9d356147",
   "metadata": {},
   "outputs": [
    {
     "name": "stdout",
     "output_type": "stream",
     "text": [
      "891\n"
     ]
    }
   ],
   "source": [
    "df = pd.read_csv(\"train.csv\")\n",
    "print(df.shape[0])"
   ]
  },
  {
   "cell_type": "markdown",
   "id": "581be943",
   "metadata": {},
   "source": [
    "An other importang step is to change the values of important rows to numbers, because the algorithm we are going to use can't work with \"male\" or \"femal\", but it's able to work with 0 or 1, so let's use this."
   ]
  },
  {
   "cell_type": "code",
   "execution_count": 17,
   "id": "1e2c3d59",
   "metadata": {},
   "outputs": [
    {
     "name": "stdout",
     "output_type": "stream",
     "text": [
      "891\n",
      "     PassengerId  Survived  Pclass  \\\n",
      "0              1         0       3   \n",
      "1              2         1       1   \n",
      "2              3         1       3   \n",
      "3              4         1       1   \n",
      "4              5         0       3   \n",
      "..           ...       ...     ...   \n",
      "886          887         0       2   \n",
      "887          888         1       1   \n",
      "888          889         0       3   \n",
      "889          890         1       1   \n",
      "890          891         0       3   \n",
      "\n",
      "                                                  Name Sex   Age  SibSp  \\\n",
      "0                              Braund, Mr. Owen Harris   0  22.0      1   \n",
      "1    Cumings, Mrs. John Bradley (Florence Briggs Th...   1  38.0      1   \n",
      "2                               Heikkinen, Miss. Laina   1  26.0      0   \n",
      "3         Futrelle, Mrs. Jacques Heath (Lily May Peel)   1  35.0      1   \n",
      "4                             Allen, Mr. William Henry   0  35.0      0   \n",
      "..                                                 ...  ..   ...    ...   \n",
      "886                              Montvila, Rev. Juozas   0  27.0      0   \n",
      "887                       Graham, Miss. Margaret Edith   1  19.0      0   \n",
      "888           Johnston, Miss. Catherine Helen \"Carrie\"   1   NaN      1   \n",
      "889                              Behr, Mr. Karl Howell   0  26.0      0   \n",
      "890                                Dooley, Mr. Patrick   0  32.0      0   \n",
      "\n",
      "     Parch            Ticket     Fare Cabin Embarked  \n",
      "0        0         A/5 21171   7.2500   NaN        S  \n",
      "1        0          PC 17599  71.2833   C85        C  \n",
      "2        0  STON/O2. 3101282   7.9250   NaN        S  \n",
      "3        0            113803  53.1000  C123        S  \n",
      "4        0            373450   8.0500   NaN        S  \n",
      "..     ...               ...      ...   ...      ...  \n",
      "886      0            211536  13.0000   NaN        S  \n",
      "887      0            112053  30.0000   B42        S  \n",
      "888      2        W./C. 6607  23.4500   NaN        S  \n",
      "889      0            111369  30.0000  C148        C  \n",
      "890      0            370376   7.7500   NaN        Q  \n",
      "\n",
      "[891 rows x 12 columns]\n"
     ]
    }
   ],
   "source": [
    "print(df.shape[0])\n",
    "for i in range(df.shape[0]):\n",
    "    if(df.at[i, \"Sex\"]==\"female\"):\n",
    "        df.at[i, \"Sex\"] = 1\n",
    "    elif(df.at[i, \"Sex\"] == \"male\"):\n",
    "        df.at[i, \"Sex\"] = 0\n",
    "print(df)"
   ]
  },
  {
   "cell_type": "markdown",
   "id": "bd4b5173",
   "metadata": {},
   "source": [
    "An other problem is the size of the value age, it is much taller than the other values we are going to use (Pclass and Sex seem to be important). So let's change it by dividing through the largest age und the largest class (then every value will be between 0 and 1)."
   ]
  },
  {
   "cell_type": "code",
   "execution_count": 18,
   "id": "3dac5f03",
   "metadata": {},
   "outputs": [
    {
     "name": "stdout",
     "output_type": "stream",
     "text": [
      "     PassengerId  Survived    Pclass  \\\n",
      "0              1         0  1.000000   \n",
      "1              2         1  0.333333   \n",
      "2              3         1  1.000000   \n",
      "3              4         1  0.333333   \n",
      "4              5         0  1.000000   \n",
      "..           ...       ...       ...   \n",
      "886          887         0  0.666667   \n",
      "887          888         1  0.333333   \n",
      "888          889         0  1.000000   \n",
      "889          890         1  0.333333   \n",
      "890          891         0  1.000000   \n",
      "\n",
      "                                                  Name Sex      Age  SibSp  \\\n",
      "0                              Braund, Mr. Owen Harris   0  0.27500      1   \n",
      "1    Cumings, Mrs. John Bradley (Florence Briggs Th...   1  0.47500      1   \n",
      "2                               Heikkinen, Miss. Laina   1  0.32500      0   \n",
      "3         Futrelle, Mrs. Jacques Heath (Lily May Peel)   1  0.43750      1   \n",
      "4                             Allen, Mr. William Henry   0  0.43750      0   \n",
      "..                                                 ...  ..      ...    ...   \n",
      "886                              Montvila, Rev. Juozas   0  0.84375      0   \n",
      "887                       Graham, Miss. Margaret Edith   1  0.59375      0   \n",
      "888           Johnston, Miss. Catherine Helen \"Carrie\"   1      NaN      1   \n",
      "889                              Behr, Mr. Karl Howell   0  0.81250      0   \n",
      "890                                Dooley, Mr. Patrick   0  1.00000      0   \n",
      "\n",
      "     Parch            Ticket     Fare Cabin Embarked  \n",
      "0        0         A/5 21171   7.2500   NaN        S  \n",
      "1        0          PC 17599  71.2833   C85        C  \n",
      "2        0  STON/O2. 3101282   7.9250   NaN        S  \n",
      "3        0            113803  53.1000  C123        S  \n",
      "4        0            373450   8.0500   NaN        S  \n",
      "..     ...               ...      ...   ...      ...  \n",
      "886      0            211536  13.0000   NaN        S  \n",
      "887      0            112053  30.0000   B42        S  \n",
      "888      2        W./C. 6607  23.4500   NaN        S  \n",
      "889      0            111369  30.0000  C148        C  \n",
      "890      0            370376   7.7500   NaN        Q  \n",
      "\n",
      "[891 rows x 12 columns]\n"
     ]
    }
   ],
   "source": [
    "for i in range(df.shape[0]):\n",
    "    df.at[i, \"Pclass\"]/=max(df[\"Pclass\"])\n",
    "    df.at[i, \"Age\"]/=max(df[\"Age\"])\n",
    "print(df)"
   ]
  },
  {
   "cell_type": "markdown",
   "id": "ffdf19c9",
   "metadata": {},
   "source": [
    "There are some rows where values are missing. There are multiple ways to handle this, but I decided to remove them, because it's a simple solution and I don't think the data is that important, although you could argue the probability that we don't know the age of a poor person is higher and so it changes the outcome of the dataset."
   ]
  },
  {
   "cell_type": "code",
   "execution_count": 19,
   "id": "2def59a5",
   "metadata": {},
   "outputs": [],
   "source": [
    "df = df.dropna()"
   ]
  },
  {
   "cell_type": "markdown",
   "id": "d253f456",
   "metadata": {},
   "source": [
    "Now we try to use Linear Regression to find a good model for the date to predict who survived and who lost his/her life."
   ]
  },
  {
   "cell_type": "code",
   "execution_count": 21,
   "id": "2d4a1ec0",
   "metadata": {},
   "outputs": [
    {
     "name": "stdout",
     "output_type": "stream",
     "text": [
      "       Pclass       Age Sex\n",
      "1    0.333333  0.475000   1\n",
      "3    0.333333  0.437500   1\n",
      "6    0.333333  0.675000   0\n",
      "10   1.000000  0.050000   1\n",
      "11   0.333333  0.725000   1\n",
      "..        ...       ...  ..\n",
      "871  0.333333  0.839286   1\n",
      "872  0.333333  0.589286   0\n",
      "879  0.333333  1.000000   1\n",
      "887  0.333333  0.593750   1\n",
      "889  0.333333  0.812500   0\n",
      "\n",
      "[183 rows x 3 columns]\n",
      "---------------------------------------------------------------------\n",
      "1      1\n",
      "3      1\n",
      "6      0\n",
      "10     1\n",
      "11     1\n",
      "      ..\n",
      "871    1\n",
      "872    0\n",
      "879    1\n",
      "887    1\n",
      "889    1\n",
      "Name: Survived, Length: 183, dtype: int64\n"
     ]
    }
   ],
   "source": [
    "X = df[[\"Pclass\", \"Age\", \"Sex\"]]\n",
    "y = df[\"Survived\"]\n",
    "print(X)\n",
    "print(\"---------------------------------------------------------------------\")\n",
    "print(y)"
   ]
  },
  {
   "cell_type": "code",
   "execution_count": 26,
   "id": "9d57c104",
   "metadata": {},
   "outputs": [],
   "source": [
    "model = LogisticRegression()"
   ]
  },
  {
   "cell_type": "code",
   "execution_count": 27,
   "id": "c2808039",
   "metadata": {},
   "outputs": [
    {
     "data": {
      "text/html": [
       "<style>#sk-container-id-1 {color: black;background-color: white;}#sk-container-id-1 pre{padding: 0;}#sk-container-id-1 div.sk-toggleable {background-color: white;}#sk-container-id-1 label.sk-toggleable__label {cursor: pointer;display: block;width: 100%;margin-bottom: 0;padding: 0.3em;box-sizing: border-box;text-align: center;}#sk-container-id-1 label.sk-toggleable__label-arrow:before {content: \"▸\";float: left;margin-right: 0.25em;color: #696969;}#sk-container-id-1 label.sk-toggleable__label-arrow:hover:before {color: black;}#sk-container-id-1 div.sk-estimator:hover label.sk-toggleable__label-arrow:before {color: black;}#sk-container-id-1 div.sk-toggleable__content {max-height: 0;max-width: 0;overflow: hidden;text-align: left;background-color: #f0f8ff;}#sk-container-id-1 div.sk-toggleable__content pre {margin: 0.2em;color: black;border-radius: 0.25em;background-color: #f0f8ff;}#sk-container-id-1 input.sk-toggleable__control:checked~div.sk-toggleable__content {max-height: 200px;max-width: 100%;overflow: auto;}#sk-container-id-1 input.sk-toggleable__control:checked~label.sk-toggleable__label-arrow:before {content: \"▾\";}#sk-container-id-1 div.sk-estimator input.sk-toggleable__control:checked~label.sk-toggleable__label {background-color: #d4ebff;}#sk-container-id-1 div.sk-label input.sk-toggleable__control:checked~label.sk-toggleable__label {background-color: #d4ebff;}#sk-container-id-1 input.sk-hidden--visually {border: 0;clip: rect(1px 1px 1px 1px);clip: rect(1px, 1px, 1px, 1px);height: 1px;margin: -1px;overflow: hidden;padding: 0;position: absolute;width: 1px;}#sk-container-id-1 div.sk-estimator {font-family: monospace;background-color: #f0f8ff;border: 1px dotted black;border-radius: 0.25em;box-sizing: border-box;margin-bottom: 0.5em;}#sk-container-id-1 div.sk-estimator:hover {background-color: #d4ebff;}#sk-container-id-1 div.sk-parallel-item::after {content: \"\";width: 100%;border-bottom: 1px solid gray;flex-grow: 1;}#sk-container-id-1 div.sk-label:hover label.sk-toggleable__label {background-color: #d4ebff;}#sk-container-id-1 div.sk-serial::before {content: \"\";position: absolute;border-left: 1px solid gray;box-sizing: border-box;top: 0;bottom: 0;left: 50%;z-index: 0;}#sk-container-id-1 div.sk-serial {display: flex;flex-direction: column;align-items: center;background-color: white;padding-right: 0.2em;padding-left: 0.2em;position: relative;}#sk-container-id-1 div.sk-item {position: relative;z-index: 1;}#sk-container-id-1 div.sk-parallel {display: flex;align-items: stretch;justify-content: center;background-color: white;position: relative;}#sk-container-id-1 div.sk-item::before, #sk-container-id-1 div.sk-parallel-item::before {content: \"\";position: absolute;border-left: 1px solid gray;box-sizing: border-box;top: 0;bottom: 0;left: 50%;z-index: -1;}#sk-container-id-1 div.sk-parallel-item {display: flex;flex-direction: column;z-index: 1;position: relative;background-color: white;}#sk-container-id-1 div.sk-parallel-item:first-child::after {align-self: flex-end;width: 50%;}#sk-container-id-1 div.sk-parallel-item:last-child::after {align-self: flex-start;width: 50%;}#sk-container-id-1 div.sk-parallel-item:only-child::after {width: 0;}#sk-container-id-1 div.sk-dashed-wrapped {border: 1px dashed gray;margin: 0 0.4em 0.5em 0.4em;box-sizing: border-box;padding-bottom: 0.4em;background-color: white;}#sk-container-id-1 div.sk-label label {font-family: monospace;font-weight: bold;display: inline-block;line-height: 1.2em;}#sk-container-id-1 div.sk-label-container {text-align: center;}#sk-container-id-1 div.sk-container {/* jupyter's `normalize.less` sets `[hidden] { display: none; }` but bootstrap.min.css set `[hidden] { display: none !important; }` so we also need the `!important` here to be able to override the default hidden behavior on the sphinx rendered scikit-learn.org. See: https://github.com/scikit-learn/scikit-learn/issues/21755 */display: inline-block !important;position: relative;}#sk-container-id-1 div.sk-text-repr-fallback {display: none;}</style><div id=\"sk-container-id-1\" class=\"sk-top-container\"><div class=\"sk-text-repr-fallback\"><pre>LogisticRegression()</pre><b>In a Jupyter environment, please rerun this cell to show the HTML representation or trust the notebook. <br />On GitHub, the HTML representation is unable to render, please try loading this page with nbviewer.org.</b></div><div class=\"sk-container\" hidden><div class=\"sk-item\"><div class=\"sk-estimator sk-toggleable\"><input class=\"sk-toggleable__control sk-hidden--visually\" id=\"sk-estimator-id-1\" type=\"checkbox\" checked><label for=\"sk-estimator-id-1\" class=\"sk-toggleable__label sk-toggleable__label-arrow\">LogisticRegression</label><div class=\"sk-toggleable__content\"><pre>LogisticRegression()</pre></div></div></div></div></div>"
      ],
      "text/plain": [
       "LogisticRegression()"
      ]
     },
     "execution_count": 27,
     "metadata": {},
     "output_type": "execute_result"
    }
   ],
   "source": [
    "model.fit(X, y)"
   ]
  },
  {
   "cell_type": "markdown",
   "id": "301cffa1",
   "metadata": {},
   "source": [
    "Now we need data to check how well or model is actually performing. IMPORTANT!!! We need to change the data in the same way as we changed the original data!"
   ]
  },
  {
   "cell_type": "code",
   "execution_count": 40,
   "id": "8cdf8a63",
   "metadata": {},
   "outputs": [
    {
     "name": "stdout",
     "output_type": "stream",
     "text": [
      "418\n"
     ]
    }
   ],
   "source": [
    "test = pd.read_csv(\"test.csv\")\n",
    "print(test.shape[0])\n",
    "for i in range(test.shape[0]):\n",
    "    if(test.at[i, \"Sex\"]==\"female\"):\n",
    "        test.at[i, \"Sex\"] = 1\n",
    "    elif(test.at[i, \"Sex\"] == \"male\"):\n",
    "        test.at[i, \"Sex\"] = 0\n",
    "    test.at[i, \"Pclass\"]/=max(df[\"Pclass\"])\n",
    "    test.at[i, \"Age\"]/=max(df[\"Age\"])\n",
    "test = test.dropna()\n",
    "X_test = test[[\"Pclass\", \"Age\", \"Sex\"]]"
   ]
  },
  {
   "cell_type": "code",
   "execution_count": 39,
   "id": "d5bab51e",
   "metadata": {},
   "outputs": [
    {
     "data": {
      "text/plain": [
       "array([1, 1, 1, 1, 0, 0, 1, 0, 1, 1, 1, 0, 1, 1, 0, 1, 1, 1, 0, 1, 0, 1,\n",
       "       1, 1, 0, 1, 1, 1, 0, 1, 0, 0, 1, 1, 0, 0, 0, 1, 1, 0, 1, 1, 1, 0,\n",
       "       1, 0, 1, 1, 0, 0, 1, 0, 0, 1, 0, 1, 1, 0, 1, 0, 0, 1, 0, 0, 0, 1,\n",
       "       0, 0, 1, 1, 0, 1, 1, 1, 0, 1, 0, 1, 1, 1, 1, 1, 0, 0, 0, 1, 1])"
      ]
     },
     "execution_count": 39,
     "metadata": {},
     "output_type": "execute_result"
    }
   ],
   "source": [
    "model.predict(X_test)"
   ]
  },
  {
   "cell_type": "markdown",
   "id": "1e613195",
   "metadata": {},
   "source": [
    "Normally I would need to compute the accuracy of the model, but because it's a kaggle competition, I don't have the needed data and we removed all rows where a value was missing so our dataset hasn't got the same size as the one from Kaggel, so I don't think it's possible to run a reasonable test. This project was for educational purposes only if you want to imporve it further here are some recommendations: Don't remove the NaN values. Instead repleace them. I am shure you are able to find a good way to do so."
   ]
  },
  {
   "cell_type": "code",
   "execution_count": null,
   "id": "9a02829f",
   "metadata": {},
   "outputs": [],
   "source": []
  }
 ],
 "metadata": {
  "kernelspec": {
   "display_name": "Python 3 (ipykernel)",
   "language": "python",
   "name": "python3"
  },
  "language_info": {
   "codemirror_mode": {
    "name": "ipython",
    "version": 3
   },
   "file_extension": ".py",
   "mimetype": "text/x-python",
   "name": "python",
   "nbconvert_exporter": "python",
   "pygments_lexer": "ipython3",
   "version": "3.10.8"
  }
 },
 "nbformat": 4,
 "nbformat_minor": 5
}
